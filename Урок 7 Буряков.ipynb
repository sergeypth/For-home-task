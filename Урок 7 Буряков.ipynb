{
 "cells": [
  {
   "cell_type": "markdown",
   "metadata": {},
   "source": [
    "Задание 1"
   ]
  },
  {
   "cell_type": "code",
   "execution_count": null,
   "metadata": {},
   "outputs": [],
   "source": [
    "import json\n",
    "i = 0\n",
    "purchases = {}\n",
    "\n",
    "with open('purchase_log.txt', encoding = 'UTF-8') as f:\n",
    "    f.read()\n",
    "    f.seek(0)\n",
    "    for line in f:\n",
    "        line = line.strip()\n",
    "        purchase = json.loads(line)\n",
    "        line2 = list(purchase.values())\n",
    "        if i > 0:\n",
    "            purchases[line2[0]] = line2[1]\n",
    "            \n",
    "        i +=1\n",
    "        #if i > 5:\n",
    "            #break\n",
    "\n",
    "f.close()"
   ]
  },
  {
   "cell_type": "markdown",
   "metadata": {},
   "source": [
    "Задание 2"
   ]
  },
  {
   "cell_type": "code",
   "execution_count": null,
   "metadata": {},
   "outputs": [],
   "source": [
    "with open('visit_log.csv', 'r') as f:\n",
    "    with open('funnel.csv', 'w', encoding = 'UTF-8') as f2write:\n",
    "        for line in f:\n",
    "            line = line.strip().split(',')\n",
    "            if purchases.get(line[0]) != None:\n",
    "                f2write.write(str(line[0]) + ', ' + str(purchases.get(line[0])) + '\\n')\n",
    "f.close()                \n",
    "f2write.close()"
   ]
  }
 ],
 "metadata": {
  "kernelspec": {
   "display_name": "Python 3",
   "language": "python",
   "name": "python3"
  },
  "language_info": {
   "codemirror_mode": {
    "name": "ipython",
    "version": 3
   },
   "file_extension": ".py",
   "mimetype": "text/x-python",
   "name": "python",
   "nbconvert_exporter": "python",
   "pygments_lexer": "ipython3",
   "version": "3.8.3"
  }
 },
 "nbformat": 4,
 "nbformat_minor": 4
}
