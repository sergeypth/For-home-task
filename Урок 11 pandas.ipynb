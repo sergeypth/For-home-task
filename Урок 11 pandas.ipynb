{
 "cells": [
  {
   "cell_type": "markdown",
   "metadata": {},
   "source": [
    "Задание 1\n",
    "\n",
    "Скачайте с сайта https://grouplens.org/datasets/movielens/ датасет любого размера. Определите какому фильму было выставлено больше всего оценок 5.0."
   ]
  },
  {
   "cell_type": "code",
   "execution_count": 4,
   "metadata": {},
   "outputs": [],
   "source": [
    "import pandas as pd"
   ]
  },
  {
   "cell_type": "code",
   "execution_count": null,
   "metadata": {},
   "outputs": [],
   "source": [
    "data = pd.read_csv('ratings.csv')\n",
    "data.query('rating == {}'.format(5.0),inplace=True)\n",
    "id_ = data['movieId'].value_counts().head(1)\n",
    "\n",
    "movies = pd.read_csv('movies.csv')\n",
    "best = movies[(movies['movieId']==id_.index[0])]\n",
    "print('Больше всего оценок 5.0 у фильма: ', best.title.values[0])"
   ]
  },
  {
   "cell_type": "markdown",
   "metadata": {},
   "source": [
    "Задание 2\n",
    "\n",
    "По данным файла power.csv посчитайте суммарное потребление стран Прибалтики (Латвия, Литва и Эстония) категорий 4, 12 и 21 за период с 2005 по 2010 года. Не учитывайте в расчетах отрицательные значения quantity."
   ]
  },
  {
   "cell_type": "code",
   "execution_count": null,
   "metadata": {},
   "outputs": [],
   "source": [
    "data_power = pd.read_csv('power.csv')\n",
    "filt_cat = data_power[(((data_power['category']==4) | (data_power['category']==12) | (data_power['category']==21)) \n",
    "                      & ((data_power['country']=='Latvia') \n",
    "                         | (data_power['country']=='Lithuania')  \n",
    "                         | (data_power['country']=='Estonia'))\n",
    "                      & ((data_power['year']>=2005) & (data_power['year']<=2010))\n",
    "                      )]\n",
    "print('Суммарное потребление стран Прибалтики (Латвия, Литва и Эстония) категорий 4, 12 и 21 за период с 2005 по 2010 года',sum(filt_country['quantity']))"
   ]
  },
  {
   "cell_type": "markdown",
   "metadata": {},
   "source": [
    "Задание 3\n",
    "\n",
    "Выберите страницу любого сайта с табличными данными. Импортируйте таблицы в pandas dataframe. Примеры страниц (необязательно брать именно эти): https://fortrader.org/quotes https://www.finanz.ru/valyuty/v-realnom-vremeni"
   ]
  },
  {
   "cell_type": "code",
   "execution_count": 7,
   "metadata": {},
   "outputs": [
    {
     "name": "stdout",
     "output_type": "stream",
     "text": [
      "         0        1      2        3        4      5               6        7   \\\n",
      "0  аааа   3Т 274  -0,3%   Nasdaq  12Т 756  -0,1%  ааИбаКаОаЙаН  23Т 091   \n",
      "1    а аЂаЁ   1Т 403  -1,2%   S&P500   3Т 709  -0,4%      ааЕббб      524   \n",
      "2       Dow  30Т 179  -0,4%  FTSE100   6Т 529  -0,3%    ааОаЛаОбаО   1Т 882   \n",
      "\n",
      "      8        9       10    11  \n",
      "0  -0,3%  USD/RUB  734240  0,4%  \n",
      "1   1,7%  EUR/RUB  900045  0,3%  \n",
      "2  -0,2%  EUR/USD   12265  0,0%   \n",
      " 3\n"
     ]
    }
   ],
   "source": [
    "url = \"https://www.finanz.ru/valyuty/v-realnom-vremeni\"\n",
    "df = pd.read_html(url)\n",
    "print(df[0], '\\n', len(df))"
   ]
  },
  {
   "cell_type": "code",
   "execution_count": null,
   "metadata": {},
   "outputs": [],
   "source": []
  }
 ],
 "metadata": {
  "kernelspec": {
   "display_name": "Python 3",
   "language": "python",
   "name": "python3"
  },
  "language_info": {
   "codemirror_mode": {
    "name": "ipython",
    "version": 3
   },
   "file_extension": ".py",
   "mimetype": "text/x-python",
   "name": "python",
   "nbconvert_exporter": "python",
   "pygments_lexer": "ipython3",
   "version": "3.8.3"
  }
 },
 "nbformat": 4,
 "nbformat_minor": 4
}
