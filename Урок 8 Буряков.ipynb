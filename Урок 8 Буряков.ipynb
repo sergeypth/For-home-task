{
 "cells": [
  {
   "cell_type": "markdown",
   "metadata": {},
   "source": [
    "Задание 1"
   ]
  },
  {
   "cell_type": "markdown",
   "metadata": {},
   "source": [
    "Напишите функцию, которая возвращает название валюты (поле ‘Name’) с максимальным значением курса с помощь сервиса https://www.cbr-xml-daily.ru/daily_json.js"
   ]
  },
  {
   "cell_type": "code",
   "execution_count": 9,
   "metadata": {},
   "outputs": [
    {
     "name": "stdout",
     "output_type": "stream",
     "text": [
      "Максимальное значение курса - у валюты СДР (специальные права заимствования): 108.1208\n"
     ]
    }
   ],
   "source": [
    "import requests\n",
    "\n",
    "def max_rate():\n",
    "    \n",
    "    r = requests.get('https://www.cbr-xml-daily.ru/daily_json.js')\n",
    "    request_result = r.json()['Valute']\n",
    "\n",
    "    valute_name = 'Валюта'\n",
    "    max_rate = 0\n",
    "\n",
    "    for key in request_result:\n",
    "        if request_result[key]['Value'] > max_rate:\n",
    "            max_rate = request_result[key]['Value']\n",
    "            valute_name = request_result[key]['Name']\n",
    "    \n",
    "    print(f'Максимальное значение курса - у валюты {valute_name}: {max_rate}')\n",
    "\n",
    "max_rate()"
   ]
  },
  {
   "cell_type": "markdown",
   "metadata": {},
   "source": [
    "Задание 2"
   ]
  },
  {
   "cell_type": "markdown",
   "metadata": {},
   "source": [
    "Добавьте в класс Rate параметр diff (со значениями True или False), который в случае значения True в методах курсов валют (eur, usd итд) будет возвращать не курс валюты, а изменение по сравнению в прошлым значением. Считайте, self.diff будет принимать значение True только при возврате значения курса. При отображении всей информации о валюте он не используется."
   ]
  },
  {
   "cell_type": "code",
   "execution_count": 1,
   "metadata": {},
   "outputs": [],
   "source": [
    "class Rate:\n",
    "    def __init__(self, format_='value'):\n",
    "        self.format = format\n",
    "    \n",
    "    def exchange_rates(self):\n",
    "        self.r = requests.get('https://www.cbr-xml-daily.ru/daily_json.js')\n",
    "        return self.r.json()['Valute']\n",
    "    \n",
    "    def make_format(self, currency):\n",
    "        response = self.exchange_rates()\n",
    "        if currency in response:\n",
    "             if self.format == 'full':\n",
    "                return response[currency]\n",
    "            \n",
    "             if self.format == 'value':\n",
    "                return response[currency]['Value']\n",
    "        \n",
    "        return 'Error'\n",
    "    \n",
    "    def eur(self, diff=None):\n",
    "        if diff is False or diff is None:\n",
    "            return self.make_format('EUR')\n",
    "        else: \n",
    "            response = self.exchange_rates()\n",
    "            diff = response['EUR']['value'] - response['EUR']['Previous']\n",
    "            return diff\n",
    "    \n",
    "    def usd(self, diff=None):\n",
    "        if diff is False or diff is None:\n",
    "            return self.make_format('USD')\n",
    "        else: \n",
    "            response = self.exchange_rates()\n",
    "            diff = response['USD']['Value'] - response['USD']['Previous']\n",
    "            return diff\n",
    "    \n",
    "    def brl(self):\n",
    "        if diff is False or diff is None:\n",
    "            return self.make_format('BRL')\n",
    "        else: \n",
    "            response = self.exchange_rates()\n",
    "            diff = response['BRL']['Value'] - response['BRL']['Previous']\n",
    "            return diff"
   ]
  },
  {
   "cell_type": "code",
   "execution_count": null,
   "metadata": {},
   "outputs": [],
   "source": [
    "r = Rate()\n",
    "r.eur(diff=True)"
   ]
  },
  {
   "cell_type": "markdown",
   "metadata": {},
   "source": [
    "Задание 3\n",
    "Напишите класс Designer, который учитывает количество международных премий. Подсказки в коде занятия в разделе “Домашнее задание задача 3”.\n",
    "\n",
    "Комментарий по классу Designer такой:\n",
    "Напишите класс Designer, который учитывает количество международных премий для дизайнеров (из презентации: “Повышение на 1 грейд за каждые 7 баллов. Получение международной премии – это +2 балла”). Считайте, что при выходе на работу сотрудник уже имеет две премии и их количество не меняется со стажем (конечно если хотите это можно вручную менять).\n",
    "\n",
    "Класс Designer пишется по аналогии с классом Developer из материалов занятия. Комментарий про его условия Вика написала выше: “Повышение на 1 грейд за каждые 7 баллов. Получение международной премии – это +2 балла”"
   ]
  },
  {
   "cell_type": "code",
   "execution_count": 3,
   "metadata": {},
   "outputs": [],
   "source": [
    "class Employee:\n",
    "    def __init__(self, name, seniority):\n",
    "        self.name = name\n",
    "        self.seniority = seniority\n",
    "        \n",
    "        self.grade = 1\n",
    "    \n",
    "    def grade_up(self):\n",
    "        \"\"\"Повышает уровень сотрудника\"\"\"\n",
    "        self.grade += 1\n",
    "    \n",
    "    def publish_grade(self):\n",
    "        \"\"\"Публикация результатов аккредитации сотрудников\"\"\"\n",
    "        print(self.name, self.grade)\n",
    "    \n",
    "    def check_if_it_is_time_for_upgrade(self):\n",
    "        pass\n",
    "    \n",
    "class Designer(Employee):\n",
    "    def __init__(self, name, seniority):\n",
    "        super().__init__(name, seniority)\n",
    "    \n",
    "    def update_seniority(self, type_of_accreditation):\n",
    "        if type_of_accreditation == 'regular':\n",
    "            self.seniority += 1\n",
    "        elif type_of_accreditation == 'international':\n",
    "            self.seniority = self.seniority + 2\n",
    "        \n",
    "    def check_if_it_is_time_for_upgrade(self):\n",
    "        if self.seniority % 7 == 0:\n",
    "            self.grade_up()\n",
    "        \n",
    "        # публикация результатов\n",
    "        return self.publish_grade()"
   ]
  },
  {
   "cell_type": "code",
   "execution_count": null,
   "metadata": {},
   "outputs": [],
   "source": [
    "alex = Designer('Александр', 0)\n",
    "alex.update_seniority(type_of_accreditation = 'regular')\n",
    "alex.publish_grade()"
   ]
  },
  {
   "cell_type": "code",
   "execution_count": null,
   "metadata": {},
   "outputs": [],
   "source": [
    "alex.update_seniority(type_of_accreditation = 'international')\n",
    "alex.update_seniority(type_of_accreditation = 'international')\n",
    "alex.check_if_it_is_time_for_upgrade()"
   ]
  }
 ],
 "metadata": {
  "kernelspec": {
   "display_name": "Python 3",
   "language": "python",
   "name": "python3"
  },
  "language_info": {
   "codemirror_mode": {
    "name": "ipython",
    "version": 3
   },
   "file_extension": ".py",
   "mimetype": "text/x-python",
   "name": "python",
   "nbconvert_exporter": "python",
   "pygments_lexer": "ipython3",
   "version": "3.8.3"
  }
 },
 "nbformat": 4,
 "nbformat_minor": 4
}
