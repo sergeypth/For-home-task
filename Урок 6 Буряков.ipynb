{
 "cells": [
  {
   "cell_type": "markdown",
   "metadata": {},
   "source": [
    "Задание 1\n",
    "\n",
    "Нужно помочь секретарю автоматизировать работу. Для этого нужно написать программу, которая будет на основе хранимых данных исполнять пользовательские команды."
   ]
  },
  {
   "cell_type": "code",
   "execution_count": 1,
   "metadata": {},
   "outputs": [],
   "source": [
    "documents = [\n",
    "{'type': 'passport', 'number': '2207 876234', 'name': 'Василий Гупкин'},\n",
    "{'type': 'invoice', 'number': '11-2', 'name': 'Геннадий Покемонов'},\n",
    "{'type': 'insurance', 'number': '10006', 'name': 'Аристарх Павлов'}\n",
    "]"
   ]
  },
  {
   "cell_type": "code",
   "execution_count": 2,
   "metadata": {},
   "outputs": [],
   "source": [
    "directories = {\n",
    "'1': ['2207 876234', '11-2'],\n",
    "'2': ['10006'],\n",
    "'3': []\n",
    "}"
   ]
  },
  {
   "cell_type": "code",
   "execution_count": 3,
   "metadata": {},
   "outputs": [],
   "source": [
    "# Пункт 1. Пользователь по команде “p” может узнать владельца документа по его номеру"
   ]
  },
  {
   "cell_type": "code",
   "execution_count": 5,
   "metadata": {},
   "outputs": [],
   "source": [
    "def documents_name(documents_ = documents):\n",
    "    number_doc = input('Enter number of documents: ')\n",
    "    for document in documents_:\n",
    "        if document['number'] == doc_number:\n",
    "            return f'Owners document: {document[\"name\"]}'\n",
    "        \n",
    "        return f' Document with № {doc_number} dont find in the base'"
   ]
  },
  {
   "cell_type": "code",
   "execution_count": 6,
   "metadata": {},
   "outputs": [],
   "source": [
    "# Пункт 1.2 Пользователь по команде “s” может по номеру документа узнать на какой полке он хранится"
   ]
  },
  {
   "cell_type": "code",
   "execution_count": 12,
   "metadata": {},
   "outputs": [],
   "source": [
    "def directory_number(com, num=''):\n",
    "\n",
    "    found = False\n",
    "    doc_dir = ''\n",
    "    if com == 's':\n",
    "        num = input('Enter number of documents: ')\n",
    "    for directory in directories:\n",
    "        if num in directories[directory]:\n",
    "            found = True\n",
    "            if com == 's':\n",
    "                print (f\" The document saved on the shelf: {directory}\")\n",
    "            doc_dir = directory\n",
    "        if not found:\n",
    "            print('Document dont find')\n",
    "        return doc_dir"
   ]
  },
  {
   "cell_type": "code",
   "execution_count": 13,
   "metadata": {},
   "outputs": [],
   "source": [
    "# Пункт 1.3 Пользователь по команде “I” может увидть полную ин-цию по документам"
   ]
  },
  {
   "cell_type": "code",
   "execution_count": 17,
   "metadata": {},
   "outputs": [
    {
     "ename": "IndentationError",
     "evalue": "expected an indented block (<ipython-input-17-ce2c1db26d5f>, line 3)",
     "output_type": "error",
     "traceback": [
      "\u001b[1;36m  File \u001b[1;32m\"<ipython-input-17-ce2c1db26d5f>\"\u001b[1;36m, line \u001b[1;32m3\u001b[0m\n\u001b[1;33m    directory = directory_by_document_number(com, i['number'])\u001b[0m\n\u001b[1;37m    ^\u001b[0m\n\u001b[1;31mIndentationError\u001b[0m\u001b[1;31m:\u001b[0m expected an indented block\n"
     ]
    }
   ],
   "source": [
    "def full_informations(com):\n",
    "    for i in documents:\n",
    "    directory = directory_by_document_number(com, i['number'])\n",
    "     print(f\"№: {i['number']}, тип: {i['type']}, владелец: {i['name']}, полка хранения: {directory}\")"
   ]
  },
  {
   "cell_type": "code",
   "execution_count": 18,
   "metadata": {},
   "outputs": [],
   "source": [
    "# Пункт 1.5 Пользователь по команде “ad” может удалить полку из данных(при условии если она пустая)"
   ]
  },
  {
   "cell_type": "code",
   "execution_count": 19,
   "metadata": {},
   "outputs": [
    {
     "ename": "SyntaxError",
     "evalue": "invalid syntax (<fstring>, line 1)",
     "output_type": "error",
     "traceback": [
      "\u001b[1;36m  File \u001b[1;32m\"<fstring>\"\u001b[1;36m, line \u001b[1;32m1\u001b[0m\n\u001b[1;33m    (dirs{0:-2})\u001b[0m\n\u001b[1;37m         ^\u001b[0m\n\u001b[1;31mSyntaxError\u001b[0m\u001b[1;31m:\u001b[0m invalid syntax\n"
     ]
    }
   ],
   "source": [
    "def add_new_directory(com):\n",
    "    dir_name = input('Enter number of shelf: ')\n",
    "    dirs = ''\n",
    "    if dir_name not in directories.keys():\n",
    "        for i in directories.keys():\n",
    "            dirs = dirs + i + ','\n",
    "        print(f\"The shelf is not found. Current list: {dirs[0:-2]}\")\n",
    "    elif directories[dir_name] == []:\n",
    "        del directories[dir_name]\n",
    "        for i in directories.keys():\n",
    "            dirs = dirs + i + ','\n",
    "            print(f\"The shelf was deleted. Current list: {dirs{0:-2}}\")\n",
    "    elif not directories[dir_name] == []:\n",
    "        for i in directories.keys():\n",
    "            dirs = dirs + i + ','\n",
    "        print(f\"On the sgil already have documents dleted these, before deleted. Current list:{dirs{0:-2}}\")"
   ]
  },
  {
   "cell_type": "code",
   "execution_count": 20,
   "metadata": {},
   "outputs": [],
   "source": [
    "# Пункт 1.4 Пользователь по команде “as” может добавить новую полку"
   ]
  },
  {
   "cell_type": "code",
   "execution_count": 1,
   "metadata": {},
   "outputs": [],
   "source": [
    "def new_shelf():\n",
    "    number_new = input('Введите номер полки: ')\n",
    "    if number_new not in list(directories.keys()):\n",
    "        directories[number_new] = []\n",
    "        print('Полка добавлена. Текущий перечень полок: ', end='')\n",
    "        print(*list(directories.keys()), sep=', ')\n",
    "    else:\n",
    "        print('Такая полка уже существует. Текущий перечень полок: ', end='')\n",
    "        print(*list(directories.keys()), sep=', ')"
   ]
  },
  {
   "cell_type": "code",
   "execution_count": null,
   "metadata": {},
   "outputs": [],
   "source": []
  }
 ],
 "metadata": {
  "kernelspec": {
   "display_name": "Python 3",
   "language": "python",
   "name": "python3"
  },
  "language_info": {
   "codemirror_mode": {
    "name": "ipython",
    "version": 3
   },
   "file_extension": ".py",
   "mimetype": "text/x-python",
   "name": "python",
   "nbconvert_exporter": "python",
   "pygments_lexer": "ipython3",
   "version": "3.8.3"
  }
 },
 "nbformat": 4,
 "nbformat_minor": 4
}
