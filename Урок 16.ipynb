{
 "cells": [
  {
   "cell_type": "code",
   "execution_count": 1,
   "metadata": {},
   "outputs": [],
   "source": [
    "# Задание 16. Базовые понятия статистики\n",
    "# Задание 1.\n",
    "# Выбраны скедуюющие параметры\n",
    "# 2:  Age -- Numeric/Continuous (NC)\n",
    "# 4:  rectal temperature -- NC\n",
    "# 5:  pulse -- NC\n",
    "# 7:  temperature of extremities -- Nominal (Nom)\n",
    "# 9:  mucous membranes -- Niminal (N)\n",
    "# 11: pain - Nominal (Nom)\n",
    "# 12: peristalsis -- Nominal (Nom)\n",
    "# 13: abdominal distension -- Ordinal (Nom"
   ]
  },
  {
   "cell_type": "code",
   "execution_count": 2,
   "metadata": {},
   "outputs": [],
   "source": [
    "import pandas as pd\n",
    "import numpy as np"
   ]
  },
  {
   "cell_type": "code",
   "execution_count": null,
   "metadata": {},
   "outputs": [],
   "source": [
    "# Выводы:\n",
    "#     'age' -- за помощью обращались хозяева молодых лошадей \n",
    "#     'rec_temp', 'pulse' - средняя ректальная температура 38.16 градусов, пульс 71.93 медиана=64), \n",
    "#     'extr_temp' - ср. температура конечностей: 2 - 'теплые', значение медианы=3 (холодные)\n",
    "#     'muc_membranes' -- ср. ззначение 2.85 (медиана = 3) - слизистые бледно-розовоые\n",
    "#     'pain' -- ср. уровень боли, ближе к 1 ('normal'), то есть без болевого синдрома\n",
    "#     'peristalsis' -- ср. значение 2.9 (медиана = 3)-- показатель гипомотильного состояния\n",
    "#     'abd_dist' -- ср. значение 2.26 (медиана = 2)-- легкий запор \n",
    "\n",
    "horse_data = pd.read_csv('horse_data.csv',na_values=['?', 'NaN', 'NAN', None, np.nan, np.NaN, np.NAN])\n",
    "\n",
    "selected_categories = [1, 3, 4, 6, 8, 9, 11, 12]\n",
    "df = horse_data.iloc[:, selected_categories ]\n",
    "columns = ['age', 'rec_temp', 'pulse', 'extr_temp', 'muc_membranes', 'pain', 'peristalsis', 'abd_dist']\n",
    "df.columns = columns\n",
    "description = df.describe()\n",
    "description"
   ]
  },
  {
   "cell_type": "code",
   "execution_count": null,
   "metadata": {},
   "outputs": [],
   "source": [
    "# df.rec_temp.str.replace('?', 'NaN').head()\n",
    "meadian_vals = df.median()\n",
    "meadian_vals"
   ]
  },
  {
   "cell_type": "code",
   "execution_count": null,
   "metadata": {},
   "outputs": [],
   "source": [
    "mode_vals = df.mode()\n",
    "mode_vals"
   ]
  },
  {
   "cell_type": "code",
   "execution_count": 4,
   "metadata": {},
   "outputs": [],
   "source": [
    "# Задание 2. Выбросы.\n",
    "# В выбранных числовых столбцах найти выбросы, выдвинуть гипотезы об их причинах \n",
    "# и проинтерпретировать результаты. Принять и обосновать решение о дальнейшей работе с ними.\n",
    "# На основании результатов применения функции describe()к данным df можно заключить, \n",
    "# что в столбцах категориальных величин 'pulse', 'extr_temp', 'muc_membranes', 'pain', 'peristalsis', 'abd_dist'\n",
    "# нет выбросов"
   ]
  },
  {
   "cell_type": "code",
   "execution_count": null,
   "metadata": {},
   "outputs": [],
   "source": [
    "# Анализ выбросов для столбца 'age'\n",
    "firstQ = 0.5*df.age.median()\n",
    "thirdQ = 1.25*df.age.median()\n",
    "IQR = thirdQ - firstQ\n",
    "low_outlier = firstQ - 1.5*IQR\n",
    "high_outlier = thirdQ + 1.5*IQR\n",
    "\n",
    "print(low_outlier)\n",
    "print(high_outlier)\n",
    "\n",
    "# 24 выбросов -- можно заменить выброс на значение '1' как превалирующее в данных\n",
    "print(df.age[ df.age > high_outlier].count())\n",
    "print(df.age[ df.age < low_outlier].count())"
   ]
  },
  {
   "cell_type": "code",
   "execution_count": null,
   "metadata": {},
   "outputs": [],
   "source": [
    "# Анализ выбросов для столбца 'pulse'\n",
    "horse_data = pd.read_csv('horse_data.csv',na_values=['9', '?', 'NaN', 'NAN', None, np.nan, np.NaN, np.NAN])\n",
    "\n",
    "selected_categories = [1, 3, 4, 6, 8, 9, 11, 12]\n",
    "df = horse_data.iloc[:, selected_categories ]\n",
    "columns = ['age', 'rec_temp', 'pulse', 'extr_temp', 'muc_membranes', 'pain', 'peristalsis', 'abd_dist']\n",
    "df.columns = columns\n",
    "description = df.describe()\n",
    "description\n",
    "\n",
    "firstQ = 0.5*df.pulse.median()\n",
    "thirdQ = 1.25*df.pulse.median()\n",
    "IQR = thirdQ - firstQ\n",
    "low_outlier = firstQ - 1.5*IQR\n",
    "high_outlier = thirdQ + 1.5*IQR\n",
    "# df.pulse[ df.pulse > high_outlier]\n",
    "# df.loc[ [2, 54, 254], : ]\n",
    "# df.pulse[ df.pulse < low_outlier]\n",
    "\n",
    "print(low_outlier)\n",
    "print(high_outlier)\n",
    "\n",
    "# 3 выброса -- исходя из других показателей, можно сделать вывод, что причино выбросов яляется\n",
    "# наличие данных об очень больных животных\n",
    "# поскольку количество выросов ничтожно мало: 0.0011%, то можно и оставить\n",
    "\n",
    "print(df.pulse[ df.pulse > high_outlier])\n",
    "\n",
    "# no low outliers\n",
    "print(df.pulse[ df.pulse < low_outlier])\n",
    "idx = [2, 54, 254]\n",
    "df.loc[ idx, : ]\n",
    "print(f'Percent of outliers: {round(300/275000, 4)}%')"
   ]
  },
  {
   "cell_type": "code",
   "execution_count": null,
   "metadata": {},
   "outputs": [],
   "source": [
    "# Анализ выбросов для столбца 'rec_temp' \n",
    "firstQ = 0.5*df.rec_temp.median()\n",
    "thirdQ = 1.25*df.rec_temp.median()\n",
    "IQR = thirdQ - firstQ\n",
    "low_outlier = firstQ - 1.5*IQR\n",
    "high_outlier = thirdQ + 1.5*IQR\n",
    "\n",
    "\n",
    "print(low_outlier)\n",
    "print(high_outlier)\n",
    "\n",
    "# no low/high outliers\n",
    "print(df.rec_temp[ df.rec_temp > high_outlier])\n",
    "print(df.rec_temp[ df.rec_temp < low_outlier])"
   ]
  },
  {
   "cell_type": "code",
   "execution_count": null,
   "metadata": {},
   "outputs": [],
   "source": [
    "# Задание 3. Работа с пропусками\n",
    "# Рассчитать количество пропусков для всех выбранных столбцов. \n",
    "# Принять и обосновать решение о методе работы с пропусками по каждому столбцу, \n",
    "# сформировать датафрейм, в котором пропуски будут отсутствовать.\n",
    "\n",
    "# Количество пропусков не превышает 60, то есть чуть больше 0.21% от размера данных. \n",
    "# К тому же, есть строки, в которых имеются пропуски для всех или нескольких столбцов, \n",
    "# например, df.iloc[27,:], df.iloc[86,:]\n",
    "# В такой ситуации можно рассматривать пропуски как MCAR и просто удалить строки с пропусками без потери информации."
   ]
  },
  {
   "cell_type": "code",
   "execution_count": null,
   "metadata": {},
   "outputs": [],
   "source": [
    "# нет пропусков в столбце 'age'\n",
    "df.loc[pd.isnull(df.age), :].count()"
   ]
  },
  {
   "cell_type": "code",
   "execution_count": null,
   "metadata": {},
   "outputs": [],
   "source": [
    "df.loc[pd.isnull(df.rec_temp), :].count()\n",
    "# df.head()"
   ]
  },
  {
   "cell_type": "code",
   "execution_count": null,
   "metadata": {},
   "outputs": [],
   "source": [
    "df.loc[pd.isnull(df.pulse), :].count()"
   ]
  },
  {
   "cell_type": "code",
   "execution_count": null,
   "metadata": {},
   "outputs": [],
   "source": [
    "df.loc[pd.isnull(df.muc_membranes), :].count()"
   ]
  },
  {
   "cell_type": "code",
   "execution_count": null,
   "metadata": {},
   "outputs": [],
   "source": [
    "df.loc[pd.isnull(df.peristalsis), :].count()"
   ]
  },
  {
   "cell_type": "code",
   "execution_count": null,
   "metadata": {},
   "outputs": [],
   "source": [
    "df.loc[pd.isnull(df.abd_dist), :].count()"
   ]
  },
  {
   "cell_type": "code",
   "execution_count": null,
   "metadata": {},
   "outputs": [],
   "source": []
  }
 ],
 "metadata": {
  "kernelspec": {
   "display_name": "Python 3",
   "language": "python",
   "name": "python3"
  },
  "language_info": {
   "codemirror_mode": {
    "name": "ipython",
    "version": 3
   },
   "file_extension": ".py",
   "mimetype": "text/x-python",
   "name": "python",
   "nbconvert_exporter": "python",
   "pygments_lexer": "ipython3",
   "version": "3.8.3"
  }
 },
 "nbformat": 4,
 "nbformat_minor": 4
}
