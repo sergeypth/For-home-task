{
 "cells": [
  {
   "cell_type": "markdown",
   "metadata": {},
   "source": [
    "Задание 1 Для датафрейма log из материалов занятия создайте столбец source_type по следующим правилам:"
   ]
  },
  {
   "cell_type": "code",
   "execution_count": null,
   "metadata": {},
   "outputs": [],
   "source": [
    "import pandas as pd\n",
    "log = pd.read_csv('visit_log.csv', sep=';')\n",
    "log.head()\n",
    "log.loc[log.traffic_source.isin(['yandex', 'google']), 'source_type'] = 'organic'\n",
    "log.loc[log.traffic_source.isin(['paid', 'email']) & (log.region == \"Russia\"), 'source_type'] = 'ad'\n",
    "log.loc[log.traffic_source.isin(['paid', 'email']) & (log.region != \"Russia\"), 'source_type'] = 'other'\n",
    "log.loc[pd.isnull(log.source_type), 'source_type'] = log.traffic_source\n",
    "log.head()"
   ]
  },
  {
   "cell_type": "markdown",
   "metadata": {},
   "source": [
    "Задание 2 В файле URLs.txt содержатся url страниц новостного сайта. Вам необходимо отфильтровать его по адресам страниц с текстами новостей. Известно, что шаблон страницы новостей имеет внутри url следующую конструкцию: /, затем 8 цифр, затем дефис"
   ]
  },
  {
   "cell_type": "code",
   "execution_count": null,
   "metadata": {},
   "outputs": [],
   "source": [
    "df = pd.read_table('URLs.txt')\n",
    "df.loc[df.url.str.contains(\"\\/[0-9]{8}-\", regex=\"True\")].head()"
   ]
  },
  {
   "cell_type": "code",
   "execution_count": null,
   "metadata": {},
   "outputs": [],
   "source": [
    "Задание 3 Сформулировано в конце кода занятия."
   ]
  },
  {
   "cell_type": "code",
   "execution_count": null,
   "metadata": {},
   "outputs": [],
   "source": [
    "from pymystem3 import Mystem\n",
    "data = pd.DataFrame({\n",
    "    'keyword': ['курс гривны к рублю', 'доллары в рубли', '100 долларов в рублях', 'курс рубля'],\n",
    "    'shows': [125076, 114173, 97534, 53546],\n",
    "})\n",
    "data.head()\n",
    "def lemmas_function(row):\n",
    "    m=Mystem()\n",
    "    lemma = m.lemmatize(row['keyword'])\n",
    "    string = ' '.join(lemma)\n",
    "    return string\n",
    "data['lemmas']=data.apply(lemmas_function, axis=1)\n",
    "data.head()"
   ]
  }
 ],
 "metadata": {
  "kernelspec": {
   "display_name": "Python 3",
   "language": "python",
   "name": "python3"
  },
  "language_info": {
   "codemirror_mode": {
    "name": "ipython",
    "version": 3
   },
   "file_extension": ".py",
   "mimetype": "text/x-python",
   "name": "python",
   "nbconvert_exporter": "python",
   "pygments_lexer": "ipython3",
   "version": "3.8.3"
  }
 },
 "nbformat": 4,
 "nbformat_minor": 4
}
