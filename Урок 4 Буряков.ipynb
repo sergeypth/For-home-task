{
 "cells": [
  {
   "cell_type": "markdown",
   "metadata": {},
   "source": [
    "Задание 1 Выведите на экран все уникальные гео-ID из значений словаря ids. Т. е. список вида [213, 15, 54, 119, 98, 35]"
   ]
  },
  {
   "cell_type": "code",
   "execution_count": 2,
   "metadata": {},
   "outputs": [],
   "source": [
    "ids = {'user1': [213, 213, 213, 15, 213],\n",
    "      'user2': [54, 54, 119, 119, 119],\n",
    "      'user3': [213, 98, 98, 34]}"
   ]
  },
  {
   "cell_type": "markdown",
   "metadata": {},
   "source": [
    "unique_ids = []\n",
    "for i_list in ids.values():\n",
    "    for a in i_list:\n",
    "        if a not in unic_ids:\n",
    "            inique_ids.append(j)\n",
    "unic_ids"
   ]
  },
  {
   "cell_type": "markdown",
   "metadata": {},
   "source": [
    "Задание 2 Дана переменная, в которой хранится список поисковых запросов пользователя"
   ]
  },
  {
   "cell_type": "code",
   "execution_count": 14,
   "metadata": {},
   "outputs": [],
   "source": [
    "queries = [\n",
    "'смотреть сериалы онлайн',\n",
    "'новости спорта',\n",
    "'афиша кино',\n",
    "'курс доллара',\n",
    "'сериалы этим летом',\n",
    "'курс по питону',\n",
    "'сериалы про спорт',\n",
    "]"
   ]
  },
  {
   "cell_type": "code",
   "execution_count": 17,
   "metadata": {},
   "outputs": [
    {
     "name": "stdout",
     "output_type": "stream",
     "text": [
      " Поисковых запросов, содержащих 3 слов(а): 57 % \n",
      " Поисковых запросов, содержащих 2 слов(а): 43 % \n"
     ]
    }
   ],
   "source": [
    "result = {}\n",
    "\n",
    "for word in queries:\n",
    "    l = len(word.split(' '))\n",
    "    result[l] = result.get(l,0) + 1    \n",
    "s = sum(result.values())\n",
    "for key, values in result.items():\n",
    "    x = round(((values) * 100) / s) \n",
    "    print(f' Поисковых запросов, содержащих {key} слов(а): {x} % ')"
   ]
  },
  {
   "cell_type": "markdown",
   "metadata": {},
   "source": [
    "Задание 4 Дана переменная, в которой хранится статистика рекламных каналов по объемам продаж"
   ]
  },
  {
   "cell_type": "code",
   "execution_count": 29,
   "metadata": {},
   "outputs": [
    {
     "name": "stdout",
     "output_type": "stream",
     "text": [
      "fb : 200\n"
     ]
    }
   ],
   "source": [
    "stats = {'fb': 200, 'ya': 115, 'vk': 120, 'google': 99, 'email': 42, 'ok': 98}\n",
    "\n",
    "my_value = 0\n",
    "my_key = []\n",
    "for key, value in stats.items():\n",
    "    if value > my_value:\n",
    "        my_value = value\n",
    "        my_key = key\n",
    "print(my_key, ':', my_value)"
   ]
  },
  {
   "cell_type": "markdown",
   "metadata": {},
   "source": [
    "Задание 5 Напишите программу, которая будет запрашивать у пользователя количество порций для приготовления этих блюд и отображать информацию о суммарном количестве требуемых ингредиентов в указанном виде."
   ]
  },
  {
   "cell_type": "code",
   "execution_count": 1,
   "metadata": {},
   "outputs": [
    {
     "name": "stdout",
     "output_type": "stream",
     "text": [
      "Введите количество порций: 5\n",
      "Сыр: 250 гр\n",
      "Томаты: 100 гр\n",
      "Огурцы: 100 гр\n",
      "Маслины: 50 гр\n",
      "Оливковое масло: 100 мл\n",
      "Салат: 50 гр\n",
      "Перец: 100 гр\n",
      "Сыр: 100 гр\n",
      "Колбаса: 150 гр\n",
      "Бекон: 150 гр\n",
      "Оливки: 50 гр\n",
      "Томаты: 100 гр\n",
      "Тесто: 500 гр\n",
      "Лимон: 5 шт\n",
      "Вода: 1000 мл\n",
      "Сахар: 50 гр\n",
      "Лайм: 100 гр\n"
     ]
    }
   ],
   "source": [
    "cook_book = {'салат': [ {'ingridient_name': 'сыр', 'quantity': 50, 'measure': 'гр'}, \n",
    "                       {'ingridient_name': 'томаты', 'quantity': 20, 'measure': 'гр'}, \n",
    "                       {'ingridient_name': 'огурцы', 'quantity': 20, 'measure': 'гр'}, \n",
    "                       {'ingridient_name': 'маслины', 'quantity': 10, 'measure': 'гр'}, \n",
    "                       {'ingridient_name': 'оливковое масло', 'quantity': 20, 'measure': 'мл'}, \n",
    "                       {'ingridient_name': 'салат', 'quantity': 10, 'measure': 'гр'}, \n",
    "                       {'ingridient_name': 'перец', 'quantity': 20, 'measure': 'гр'} ], \n",
    "             'пицца': [ {'ingridient_name': 'сыр', 'quantity': 20, 'measure': 'гр'}, \n",
    "                       {'ingridient_name': 'колбаса', 'quantity': 30, 'measure': 'гр'}, \n",
    "                       {'ingridient_name': 'бекон', 'quantity': 30, 'measure': 'гр'}, \n",
    "                       {'ingridient_name': 'оливки', 'quantity': 10, 'measure': 'гр'}, \n",
    "                       {'ingridient_name': 'томаты', 'quantity': 20, 'measure': 'гр'}, \n",
    "                       {'ingridient_name': 'тесто', 'quantity': 100, 'measure': 'гр'}, ], \n",
    "             'лимонад': [ {'ingridient_name': 'лимон', 'quantity': 1, 'measure': 'шт'}, \n",
    "                         {'ingridient_name': 'вода', 'quantity': 200, 'measure': 'мл'}, \n",
    "                         {'ingridient_name': 'сахар', 'quantity': 10, 'measure': 'гр'}, \n",
    "                         {'ingridient_name': 'лайм', 'quantity': 20, 'measure': 'гр'}, ] \n",
    "            }\n",
    "portions = int(input('Введите количество порций: '))\n",
    "for dish, ingr in cook_book.items():\n",
    "    for el in ingr:\n",
    "        print(f'{el[\"ingridient_name\"].capitalize()}: {el[\"quantity\"] * portions} {el[\"measure\"]}')"
   ]
  },
  {
   "cell_type": "code",
   "execution_count": null,
   "metadata": {},
   "outputs": [],
   "source": []
  }
 ],
 "metadata": {
  "kernelspec": {
   "display_name": "Python 3",
   "language": "python",
   "name": "python3"
  },
  "language_info": {
   "codemirror_mode": {
    "name": "ipython",
    "version": 3
   },
   "file_extension": ".py",
   "mimetype": "text/x-python",
   "name": "python",
   "nbconvert_exporter": "python",
   "pygments_lexer": "ipython3",
   "version": "3.8.3"
  }
 },
 "nbformat": 4,
 "nbformat_minor": 4
}
