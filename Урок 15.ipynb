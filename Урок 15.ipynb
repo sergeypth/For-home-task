{
 "cells": [
  {
   "cell_type": "markdown",
   "metadata": {},
   "source": [
    "Задание 1.\n",
    "Обязательная часть\n",
    "\n",
    "Будем парсить страницу со свежеми новостям на habr.com/ru/all/. Вам необходимо собирать только те статьи, в которых встречается хотя бы одно требуемое ключевое слово. Эти слова определяем в начале кода в переменной, например: KEYWORDS = ['python', 'парсинг'] Поиск вести по всей доступной preview-информации (это информация, доступная непосредственно с текущей страницы). "
   ]
  },
  {
   "cell_type": "code",
   "execution_count": null,
   "metadata": {},
   "outputs": [],
   "source": [
    "import requests\n",
    "import time\n",
    "import pandas as pd\n",
    "from bs4 import BeautifulSoup\n",
    "KEYWORDS = ['python', 'парсинг','SSD','Марс']"
   ]
  },
  {
   "cell_type": "code",
   "execution_count": null,
   "metadata": {},
   "outputs": [],
   "source": [
    "res = requests.get('https://habr.com/ru/all/')\n",
    "soup_ = BeautifulSoup(res.text, 'lxml')"
   ]
  },
  {
   "cell_type": "code",
   "execution_count": null,
   "metadata": {},
   "outputs": [],
   "source": [
    "news = soup_.find_all('a', class_ = \"post__title_link\")\n",
    "\n",
    "href_list = []\n",
    "for new in news:\n",
    "    href_ = new.get('href')\n",
    "    href_list.append(href_)"
   ]
  },
  {
   "cell_type": "code",
   "execution_count": null,
   "metadata": {},
   "outputs": [],
   "source": [
    "def check_paper (KEYWORDS,text):\n",
    "    for key in KEYWORDS:\n",
    "        if key in str(text):        \n",
    "            return True"
   ]
  },
  {
   "cell_type": "code",
   "execution_count": null,
   "metadata": {},
   "outputs": [],
   "source": [
    "frame = pd.DataFrame(columns=['Заголовок', 'Дата', 'Ссылка', 'Текст статьи'])\n",
    "\n",
    "for link in href_list:\n",
    "    soup_ = BeautifulSoup(requests.get(link).text, 'lxml')\n",
    "    text = soup_.find('div', class_ = 'post__body post__body_full').text\n",
    "    check = check_paper (KEYWORDS,text) \n",
    "    if check == True:\n",
    "        heder = soup_.title.text\n",
    "        date = soup_.find('span', class_ = 'post__time').get('data-time_published')\n",
    "        df2 = pd.DataFrame({'Заголовок' : [heder], 'Дата' : [date], 'Ссылка' : [link], 'Текст статьи' : [text]})\n",
    "        frame = pd.concat([frame, df2])\n",
    "   \n",
    "    time.sleep(0.3)\n",
    "\n",
    "frame"
   ]
  },
  {
   "cell_type": "markdown",
   "metadata": {},
   "source": [
    "Задание 2.\n",
    "Обязательная часть\n",
    "\n",
    "Написать скрипт, который будет проверять список e-mail адресов на утечку при помощи сервиса Avast Hack Ckeck. Список email-ов задаем переменной в начале кода: EMAIL = [xxx@x.ru, yyy@y.com] В итоге должен формироваться датафрейм со столбцами: - <дата утечки> - <источник утечки> - <описание утечки> Подсказка: сервис работает при помощи \"скрытого\" API. Внимательно изучите post-запросы."
   ]
  },
  {
   "cell_type": "code",
   "execution_count": 1,
   "metadata": {},
   "outputs": [],
   "source": [
    "EMAIL = ['89066390161@yandex.ru','maksuxa4@yandex.ru','maks@yandex.ru']\n",
    "import json"
   ]
  },
  {
   "cell_type": "code",
   "execution_count": 2,
   "metadata": {},
   "outputs": [],
   "source": [
    "\n",
    "Headers = {   \n",
    "'Accept': \"application/json, text/plain, */*\",\n",
    "'Accept-Encoding': 'gzip, deflate, br',\n",
    "'Accept-Language': 'ru-RU,ru;q=0.9,en-US;q=0.8,en;q=0.7',\n",
    "'Connection': 'keep-alive',\n",
    "'Content-Length': '32',\n",
    "'Content-Type': 'application/json;charset=UTF-8',\n",
    "'Host': 'identityprotection.avast.com',\n",
    "'Origin': 'https://www.avast.com',\n",
    "'Referer': 'https://www.avast.com/',\n",
    "#'sec-ch-ua': \"Google Chrome\";v=\"87\", \" Not;A Brand\";v=\"99\", \"Chromium\";v=\"87\",\n",
    "'sec-ch-ua-mobile': '?0',\n",
    "'Sec-Fetch-Dest': 'empty',\n",
    "'Sec-Fetch-Mode': 'cors',\n",
    "'Sec-Fetch-Site': 'same-site',\n",
    "'User-Agent': 'Mozilla/5.0 (Macintosh; Intel Mac OS X 10_15_4) AppleWebKit/537.36 (KHTML, like Gecko) Chrome/87.0.4280.88 Safari/537.36',\n",
    "'Vaar-Header-App-Product': 'hackcheck-web-avast',\n",
    "'Vaar-Version': '0'\n",
    "}"
   ]
  },
  {
   "cell_type": "code",
   "execution_count": null,
   "metadata": {},
   "outputs": [],
   "source": [
    "URL = 'https://identityprotection.avast.com/v1/web/query/site-breaches/unauthorized-data'\n",
    "data = {'emailAddresses': EMAIL}\n",
    "#Headers = {'User-Agent': 'Mozilla/5.0 (Macintosh; Intel Mac OS X 10_15_4) AppleWebKit/537.36 (KHTML, like Gecko) Chrome/87.0.4280.88 Safari/537.36'}\n",
    "req = requests.post(URL, data = json.dumps(data), headers = Headers)\n",
    "\n",
    "req"
   ]
  },
  {
   "cell_type": "code",
   "execution_count": null,
   "metadata": {},
   "outputs": [],
   "source": [
    "type(req.text)\n",
    "decoded = json.loads(req.text)\n",
    "\n",
    "decoded"
   ]
  },
  {
   "cell_type": "code",
   "execution_count": null,
   "metadata": {},
   "outputs": [],
   "source": [
    "site_breaches = pd.DataFrame(req.json()['breaches'])\n",
    "#columns=['Email', 'date','site','description'])\n",
    "site_breaches = site_breaches.transpose()\n",
    "site_breaches"
   ]
  },
  {
   "cell_type": "code",
   "execution_count": null,
   "metadata": {},
   "outputs": [],
   "source": [
    "mail_breaches = pd.DataFrame(req.json()['summary'])\n",
    "dfValues = list(data_breaches['breaches'])\n",
    "print(dfValues)\n",
    "list_email = list(data_breaches['breaches'].index)\n",
    "print(list_email)\n",
    "mail_breaches"
   ]
  },
  {
   "cell_type": "code",
   "execution_count": null,
   "metadata": {},
   "outputs": [],
   "source": [
    "def proverka_breachId (par):\n",
    "    index = 0\n",
    "    for Val in dfValues:        \n",
    "        if par in Val:        \n",
    "            return list_email[index]\n",
    "        index += 1\n",
    "        \n",
    "print(proverka_breachId(16659))"
   ]
  },
  {
   "cell_type": "code",
   "execution_count": null,
   "metadata": {},
   "outputs": [],
   "source": [
    "site_breaches['Email'] = site_breaches['breachId'].apply(proverka_breachId)\n",
    "site_breaches.drop(['breachId', 'recordsCount','statistics'], axis = 1)"
   ]
  },
  {
   "cell_type": "code",
   "execution_count": null,
   "metadata": {},
   "outputs": [],
   "source": []
  }
 ],
 "metadata": {
  "kernelspec": {
   "display_name": "Python 3",
   "language": "python",
   "name": "python3"
  },
  "language_info": {
   "codemirror_mode": {
    "name": "ipython",
    "version": 3
   },
   "file_extension": ".py",
   "mimetype": "text/x-python",
   "name": "python",
   "nbconvert_exporter": "python",
   "pygments_lexer": "ipython3",
   "version": "3.8.3"
  }
 },
 "nbformat": 4,
 "nbformat_minor": 4
}
